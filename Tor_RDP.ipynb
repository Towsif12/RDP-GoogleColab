{
  "nbformat": 4,
  "nbformat_minor": 0,
  "metadata": {
    "colab": {
      "name": "Tor RDP.ipynb",
      "provenance": [],
      "authorship_tag": "ABX9TyMhpj9b7gxcjLkx/8dmAVxE",
      "include_colab_link": true
    },
    "kernelspec": {
      "name": "python3",
      "display_name": "Python 3"
    }
  },
  "cells": [
    {
      "cell_type": "markdown",
      "metadata": {
        "id": "view-in-github",
        "colab_type": "text"
      },
      "source": [
        "<a href=\"https://colab.research.google.com/github/Towsif12/RDP/blob/main/Tor_RDP.ipynb\" target=\"_parent\"><img src=\"https://colab.research.google.com/assets/colab-badge.svg\" alt=\"Open In Colab\"/></a>"
      ]
    },
    {
      "cell_type": "code",
      "metadata": {
        "colab": {
          "base_uri": "https://localhost:8080/"
        },
        "id": "wnEmb48W2hFv",
        "outputId": "152d9fc0-5d8b-4947-f66e-12ac631d5cba"
      },
      "source": [
        "! wget https://github.com/Towsif12/RDP/raw/main/RDP-XFCE.sh &> /dev/null\r\n",
        "! chmod +x RDP-XFCE.sh\r\n",
        "! ./RDP-XFCE.sh"
      ],
      "execution_count": 2,
      "outputs": [
        {
          "output_type": "stream",
          "text": [
            "Installing RDP Be Patience... \n",
            "Setup Complete \n",
            "Check https://remotedesktop.google.com/headless  Copy Command Of Debian Linux And Paste Down\n",
            "Paste Here: DISPLAY= /opt/google/chrome-remote-desktop/start-host --code=\"4/0AY0e-g5evHsgCJJiCsfb6hvKDZj7iqF62XYyKsH2yRag1KahrtTDXkQl8QXw1C6_nexX4g\" --redirect-url=\"https://remotedesktop.google.com/_/oauthredirect\" --name=$(hostname)\n",
            "Enter a PIN of at least six digits: \n",
            "Enter the same PIN again: \n",
            "[1229/191222.114145:ERROR:cert_verify_proc_builtin.cc(559)] No net_fetcher for performing AIA chasing.\n",
            "[1229/191222.169783:WARNING:host_config.cc(54)] Failed to read /home/Towsif/.config/chrome-remote-desktop/host#7f88655e642126db5db5527c5e955db3.json\n",
            "[1229/191222.360999:ERROR:cert_verify_proc_builtin.cc(559)] No net_fetcher for performing AIA chasing.\n",
            "[1229/191222.969819:INFO:daemon_controller_delegate_linux.cc(99)] 2020-12-29 19:12:22,957:INFO:User 'Towsif' is already a member of 'chrome-remote-desktop'.\n",
            "\n",
            "[1229/191224.781016:INFO:daemon_controller_delegate_linux.cc(99)] [1229/191223.088907:INFO:remoting_user_session.cc(754)] Daemon process started in the background, logging to '/tmp/chrome_remote_desktop_20201229_191223_npf5NS'\n",
            "Using host_id: d1d1050e-998f-4a2c-a6b8-825b22011e8c\n",
            "Launching X server and X session.\n",
            "Starting Xvfb on display :20\n",
            "X server is active.\n",
            "Launching X session: ['/bin/sh', '/etc/chrome-remote-desktop-session']\n",
            "Launching host process\n",
            "['/opt/google/chrome-remote-desktop/chrome-remote-desktop-host', '--host-config=-', '--audio-pipe-name=/home/Towsif/.config/chrome-remote-desktop/pulseaudio#7f88655e64/fifo_output', '--server-supports-exact-resize', '--ssh-auth-sockname=/tmp/chromoting.Towsif.ssh_auth_sock', '--signal-parent']\n",
            "Host ready to receive connections.\n",
            "Log file: /tmp/chrome_remote_desktop_20201229_191223_npf5NS\n",
            "\n",
            "Check https://remotedesktop.google.com/access/ \n",
            "\n",
            "\n",
            "\n",
            "Upgrade Completed "
          ],
          "name": "stdout"
        }
      ]
    },
    {
      "cell_type": "code",
      "metadata": {
        "colab": {
          "base_uri": "https://localhost:8080/"
        },
        "id": "boL_3Pn3Aa-1",
        "outputId": "a7a3bfe9-ec06-4f84-fe2c-7353b8bdb0c9"
      },
      "source": [
        "! add-apt-repository universe && sudo apt update\r\n",
        "! apt install torbrowser-launcher"
      ],
      "execution_count": 4,
      "outputs": [
        {
          "output_type": "stream",
          "text": [
            "'universe' distribution component is already enabled for all sources.\n",
            "Ign:1 http://dl.google.com/linux/chrome-remote-desktop/deb stable InRelease\n",
            "Hit:2 http://dl.google.com/linux/chrome/deb stable InRelease\n",
            "Hit:3 http://dl.google.com/linux/chrome-remote-desktop/deb stable Release\n",
            "Ign:4 https://developer.download.nvidia.com/compute/cuda/repos/ubuntu1804/x86_64  InRelease\n",
            "Hit:5 http://security.ubuntu.com/ubuntu bionic-security InRelease\n",
            "Hit:6 https://cloud.r-project.org/bin/linux/ubuntu bionic-cran40/ InRelease\n",
            "Hit:7 http://ppa.launchpad.net/c2d4u.team/c2d4u4.0+/ubuntu bionic InRelease\n",
            "Hit:8 http://archive.ubuntu.com/ubuntu bionic InRelease\n",
            "Ign:9 https://developer.download.nvidia.com/compute/machine-learning/repos/ubuntu1804/x86_64  InRelease\n",
            "Hit:10 https://developer.download.nvidia.com/compute/cuda/repos/ubuntu1804/x86_64  Release\n",
            "Hit:11 https://developer.download.nvidia.com/compute/machine-learning/repos/ubuntu1804/x86_64  Release\n",
            "Hit:13 http://archive.ubuntu.com/ubuntu bionic-updates InRelease\n",
            "Hit:14 http://ppa.launchpad.net/cran/libgit2/ubuntu bionic InRelease\n",
            "Hit:15 http://archive.ubuntu.com/ubuntu bionic-backports InRelease\n",
            "Hit:16 http://ppa.launchpad.net/graphics-drivers/ppa/ubuntu bionic InRelease\n",
            "Reading package lists... Done\n",
            "Building dependency tree       \n",
            "Reading state information... Done\n",
            "6 packages can be upgraded. Run 'apt list --upgradable' to see them.\n",
            "Reading package lists... Done\n",
            "Building dependency tree       \n",
            "Reading state information... Done\n",
            "torbrowser-launcher is already the newest version (0.2.9-2ubuntu1).\n",
            "0 upgraded, 0 newly installed, 0 to remove and 6 not upgraded.\n"
          ],
          "name": "stdout"
        }
      ]
    }
  ]
}